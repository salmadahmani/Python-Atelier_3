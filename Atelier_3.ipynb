{
  "nbformat": 4,
  "nbformat_minor": 0,
  "metadata": {
    "colab": {
      "provenance": []
    },
    "kernelspec": {
      "name": "python3",
      "display_name": "Python 3"
    },
    "language_info": {
      "name": "python"
    }
  },
  "cells": [
    {
      "cell_type": "code",
      "execution_count": null,
      "metadata": {
        "id": "w01TSuY2gDsu"
      },
      "outputs": [],
      "source": []
    },
    {
      "cell_type": "markdown",
      "source": [
        "exircece 1:Définir une classe Vecteur2D avec un constructeur fournissant les coordonnées par\n",
        "défaut d’un vecteur du plan (par exemple : x = 0 et y = 0).\n",
        "Dans le programme principal, instanciez un Vecteur2D sans paramètre,\n",
        "un Vecteur2D avec ses deux paramètres, et affichez-les."
      ],
      "metadata": {
        "id": "1ORLiH8ggPw8"
      }
    },
    {
      "cell_type": "code",
      "source": [
        "class Vecteur2D:\n",
        "    x = 0\n",
        "    y = 0  \n",
        "#instance d un Vecteur2D sans paramètre:   \n",
        "V1 = Vecteur2D()\n",
        "#affichage:\n",
        "print(V1.x)\n",
        "print(V1.y) \n",
        "\n",
        "\n",
        "class Vecteur2D:\n",
        "    def __init__(self,x,y):\n",
        "        \n",
        "        self.x = x\n",
        "        self.y = y\n",
        "    \n",
        "\n",
        "# instancs d un Vecteur2D avec les deux paramètre:\n",
        "\n",
        "V2 = Vecteur2D(0,0) \n",
        "#affichage:\n",
        "print(V2.x)\n",
        "print(V2.y)\n",
        "\n",
        "    "
      ],
      "metadata": {
        "id": "jqqV7px4hGGl"
      },
      "execution_count": null,
      "outputs": []
    },
    {
      "cell_type": "markdown",
      "source": [
        "exercice 2:Enrichissez la classe Vecteur2D précédente en lui ajoutant une méthode d’affichage et\n",
        "une méthode de surcharge d’addition de deux vecteurs du plan.\n",
        "Dans le programme principal, instanciez deux Vecteur2D, affichez-les et affichez leur\n",
        "somme."
      ],
      "metadata": {
        "id": "S6Gwvik2hNCC"
      }
    },
    {
      "cell_type": "code",
      "source": [
        "class Vecteur2D:\n",
        "    def __init__(self,x,y):\n",
        "        \n",
        "        self.x = x\n",
        "        self.y = y\n",
        "    def show(self):\n",
        "        return (self.x) ,(self.y) \n",
        "    def add(V1,V2):\n",
        "        return Vecteur2D(V1.x+V2.x,V1.y+V2.y)\n",
        "      \n",
        "V1 = Vecteur2D(2,4)\n",
        "V2 = Vecteur2D(1,3)\n",
        "V3 = V1.add (V2)\n",
        "print(\"V1:\",V1.show())\n",
        "print(\"V2:\",V2.show())\n",
        "print(\"V3:\",V3.show())\n"
      ],
      "metadata": {
        "id": "xOTczpfKhUZr"
      },
      "execution_count": null,
      "outputs": []
    },
    {
      "cell_type": "markdown",
      "source": [
        "exercice 3:Définir une classe Rectangle avec un constructeur donnant des valeurs\n",
        "(longueur et largeur) par défaut et un attribut nom = \"rectangle\", une méthode\n",
        "d’affichage et une méthode surface renvoyant la surface d’une instance.\n",
        "Définir une classe Carre héritant de Rectangle et qui surcharge l’attribut\n",
        "d’instance : nom = \"carré\".\n",
        "Dans le programme principal, instanciez un Rectangle et un Carre et affichez-les."
      ],
      "metadata": {
        "id": "sf_S3ORChbqV"
      }
    },
    {
      "cell_type": "code",
      "source": [
        "class Rectangle:\n",
        "    def __init__(self,nom,longueur, largeur):\n",
        "        self .nom = nom\n",
        "        self.longueur = longueur\n",
        "        self.largeur = largeur\n",
        "        \n",
        "    def show(self):\n",
        "       return (self.nom),(self.longueur),(self.largeur)\n",
        "    def surface(self):\n",
        "        return (self.longueur)*(self.largeur)\n",
        "R1 = Rectangle(\"rectangle\",4,5)\n",
        "print(R1.show())\n",
        "print(\"surface de rectangle=\",R1.surface())\n",
        "\n",
        "class Carre(Rectangle):\n",
        "    def __init__(self,nom,longueur, largeur):\n",
        "          super().__init__(nom,longueur, largeur)\n",
        "C = Carre(\"carre\",4,4)\n",
        "print(C.show())    \n"
      ],
      "metadata": {
        "id": "7EFPRTxFhkXG"
      },
      "execution_count": null,
      "outputs": []
    },
    {
      "cell_type": "code",
      "source": [],
      "metadata": {
        "id": "cjwdQpBghNvV"
      },
      "execution_count": null,
      "outputs": []
    }
  ]
}